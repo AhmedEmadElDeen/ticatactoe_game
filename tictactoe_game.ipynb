{
 "cells": [
  {
   "cell_type": "markdown",
   "metadata": {
    "isInteractiveWindowMessageCell": true
   },
   "source": [
    "Connected to base (Python 3.11.3)"
   ]
  },
  {
   "cell_type": "code",
   "execution_count": 1,
   "metadata": {},
   "outputs": [
    {
     "name": "stdout",
     "output_type": "stream",
     "text": [
      " | | \n",
      "-----\n",
      " | | \n",
      "-----\n",
      " | | \n",
      "-----\n",
      "Player X's turn.\n",
      " |X| \n",
      "-----\n",
      " | | \n",
      "-----\n",
      " | | \n",
      "-----\n",
      "Player O's turn.\n",
      " |X| \n",
      "-----\n",
      " | | \n",
      "-----\n",
      " |O| \n",
      "-----\n",
      "Player X's turn.\n"
     ]
    }
   ],
   "source": [
    "board = [\n",
    "        [' ', ' ', ' '],\n",
    "        [' ', ' ', ' '],\n",
    "        [' ', ' ', ' ']\n",
    "]\n",
    "\n",
    "\n",
    "def print_board(board):\n",
    "    for row in board:\n",
    "        print('|'.join(row))\n",
    "        print('-' * 5)\n",
    "\n",
    "def handle_player_move():\n",
    "    row = int(input(\"Enter the row (0, 1, 2): \"))\n",
    "    col = int(input(\"Enter the column (0, 1, 2): \"))\n",
    "    return row, col\n",
    "\n",
    "def make_move(board, row, col, player_symbol):\n",
    "    if board[row][col] == ' ':\n",
    "        board[row][col] = player_symbol\n",
    "        return True\n",
    "    else:\n",
    "        print(\"That cell is already taken. Pick another cell\")\n",
    "        return False\n",
    "\n",
    "def check_for_win(board, player_symbol):\n",
    "    for i in range(3):\n",
    "        if all(board[i][j] == player_symbol for j in range(3)) or \\\n",
    "           all(board[j][i] == player_symbol for j in range(3)):\n",
    "            return True\n",
    "    if all(board[i][i] == player_symbol for i in range(3)) or \\\n",
    "       all(board[i][2 - i] == player_symbol for i in range(3)):\n",
    "        return True\n",
    "    return False\n",
    "\n",
    "def check_for_tie(board):\n",
    "    return all(board[i][j] != ' ' for i in range(3) for j in range(3))\n",
    "\n",
    "def main():\n",
    "\n",
    "    player_turn = 'X'\n",
    "    while True:\n",
    "        print_board(board)\n",
    "        print(f\"Player {player_turn}'s turn.\")\n",
    "        row, col = handle_player_move()\n",
    "        if make_move(board, row, col, player_turn):\n",
    "            if check_for_win(board, player_turn):\n",
    "                print_board(board)\n",
    "                print(f\"Player {player_turn} wins!\")\n",
    "                break\n",
    "            elif check_for_tie(board):\n",
    "                print_board(board)\n",
    "                print(\"It's a draw!\")\n",
    "                break\n",
    "            player_turn = 'O' if player_turn == 'X' else 'X'\n",
    "\n",
    "if __name__ == \"__main__\":\n",
    "    main()"
   ]
  }
 ],
 "metadata": {
  "kernelspec": {
   "display_name": "base",
   "language": "python",
   "name": "python3"
  },
  "language_info": {
   "name": "python",
   "version": "3.11.3"
  }
 },
 "nbformat": 4,
 "nbformat_minor": 2
}
